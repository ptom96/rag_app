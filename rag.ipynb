{
 "cells": [
  {
   "cell_type": "code",
   "execution_count": null,
   "id": "0c81a9a4",
   "metadata": {},
   "outputs": [],
   "source": [
    "from load_docs import load_documents,chunk_documents\n",
    "from langchain_community.embeddings import HuggingFaceEmbeddings\n",
    "from langchain_community.vectorstores import Chroma\n",
    "from langchain_community.llms import HuggingFaceHub\n",
    "import os\n",
    "from langchain.chains import RetrievalQA\n",
    "from langchain_community.llms import HuggingFaceEndpoint\n",
    "from transformers import pipeline\n",
    "from langchain_community.llms import HuggingFacePipeline"
   ]
  },
  {
   "cell_type": "code",
   "execution_count": 3,
   "id": "f28f5404",
   "metadata": {},
   "outputs": [
    {
     "name": "stderr",
     "output_type": "stream",
     "text": [
      "Ignoring wrong pointing object 8 0 (offset 0)\n"
     ]
    }
   ],
   "source": [
    "# 1. Load PDF\n",
    "documents = load_documents(\"docs/na_tesla_service_plan_agreement_ot.pdf\")"
   ]
  },
  {
   "cell_type": "code",
   "execution_count": 4,
   "id": "83e1335b",
   "metadata": {},
   "outputs": [],
   "source": [
    "# 2. Split into chunks\n",
    "chunks = chunk_documents(documents)"
   ]
  },
  {
   "cell_type": "code",
   "execution_count": 5,
   "id": "48828ccc",
   "metadata": {},
   "outputs": [
    {
     "name": "stderr",
     "output_type": "stream",
     "text": [
      "/var/folders/y6/k28bmfyn2zvc2txjktsxbxhw0000gn/T/ipykernel_83620/1600519414.py:1: LangChainDeprecationWarning: The class `HuggingFaceEmbeddings` was deprecated in LangChain 0.2.2 and will be removed in 1.0. An updated version of the class exists in the :class:`~langchain-huggingface package and should be used instead. To use it run `pip install -U :class:`~langchain-huggingface` and import as `from :class:`~langchain_huggingface import HuggingFaceEmbeddings``.\n",
      "  embeddings = HuggingFaceEmbeddings(model_name=\"BAAI/bge-base-en\")\n",
      "/Users/tomthomas/Downloads/RAG Learning/Vanilla RAG/vanillarag/lib/python3.12/site-packages/tqdm/auto.py:21: TqdmWarning: IProgress not found. Please update jupyter and ipywidgets. See https://ipywidgets.readthedocs.io/en/stable/user_install.html\n",
      "  from .autonotebook import tqdm as notebook_tqdm\n"
     ]
    }
   ],
   "source": [
    "embeddings = HuggingFaceEmbeddings(model_name=\"BAAI/bge-base-en\")\n",
    "vectorstore = Chroma.from_documents(chunks, embeddings)"
   ]
  },
  {
   "cell_type": "code",
   "execution_count": 13,
   "id": "bff93764",
   "metadata": {},
   "outputs": [
    {
     "name": "stderr",
     "output_type": "stream",
     "text": [
      "Device set to use cpu\n",
      "/var/folders/y6/k28bmfyn2zvc2txjktsxbxhw0000gn/T/ipykernel_83620/3045912102.py:7: LangChainDeprecationWarning: The class `HuggingFacePipeline` was deprecated in LangChain 0.0.37 and will be removed in 1.0. An updated version of the class exists in the :class:`~langchain-huggingface package and should be used instead. To use it run `pip install -U :class:`~langchain-huggingface` and import as `from :class:`~langchain_huggingface import HuggingFacePipeline``.\n",
      "  llm = HuggingFacePipeline(pipeline=hf_pipeline)\n"
     ]
    }
   ],
   "source": [
    "hf_pipeline = pipeline(\n",
    "    \"text2text-generation\",\n",
    "    model=\"google/flan-t5-base\",\n",
    "    device=-1   # CPU, or 0 for GPU\n",
    ")\n",
    "\n",
    "llm = HuggingFacePipeline(pipeline=hf_pipeline)\n"
   ]
  },
  {
   "cell_type": "code",
   "execution_count": 14,
   "id": "2393522e",
   "metadata": {},
   "outputs": [],
   "source": [
    "# 4. Create QA chain\n",
    "retriever = vectorstore.as_retriever(search_kwargs={\"k\": 3})\n",
    "# Point to your deployed Inference Endpoint)\n",
    "qa_chain = RetrievalQA.from_chain_type(llm=llm, retriever=retriever)"
   ]
  },
  {
   "cell_type": "code",
   "execution_count": 15,
   "id": "2c484e6e",
   "metadata": {},
   "outputs": [
    {
     "name": "stderr",
     "output_type": "stream",
     "text": [
      "Token indices sequence length is longer than the specified maximum sequence length for this model (1857 > 512). Running this sequence through the model will result in indexing errors\n"
     ]
    }
   ],
   "source": [
    "# 5. Ask a question\n",
    "query = \"Summarize the document in 3 points\"\n",
    "answer = qa_chain.run(query)"
   ]
  },
  {
   "cell_type": "code",
   "execution_count": 16,
   "id": "2fc33f66",
   "metadata": {},
   "outputs": [
    {
     "name": "stdout",
     "output_type": "stream",
     "text": [
      "Q: Summarize the document in 3 points\n",
      "A: TSPA012013 TSPA012013 E. Agreement Period This Agreement is an application for coverage under an Agreement. Sections B through K shall survive any termination or expiration of this Agreement. F. Territory This Agreement applies to a Vehicle sold by Tesla in the Tesla North America Warranty Region and transported or driven only in the Tesla North America Warranty Region. For purposes of this Agreement, the Tesla North America Warranty Region is defined as all 50 states of the United States of America, the District of Columbia, and all 13 provinces and territories of Canada. If Your Vehicle was sold, transported or driven outside the Tesla North America Warranty Region, no warranties or coverage, including this Agreement, will apply. Tesla will not pay for or reimburse You for services that are performed by any party other than a Tesla Authorized Service Center or Tesla Ranger. Tesla hereby disclaims any and all indirect, incidental, special and consequential damages arising out of or relating to Your Vehicle, including, but not limited to, implied warranties and conditions of merchantability or merchantable quality, fitness for a particular purpose, durability, or those arising by a course of dealing or usage of trade, are disclaimed to the fullest extent allowable by law,\n"
     ]
    }
   ],
   "source": [
    "print(\"Q:\", query)\n",
    "print(\"A:\", answer)"
   ]
  },
  {
   "cell_type": "code",
   "execution_count": null,
   "id": "5824b10b",
   "metadata": {},
   "outputs": [],
   "source": []
  }
 ],
 "metadata": {
  "kernelspec": {
   "display_name": "vanillarag",
   "language": "python",
   "name": "python3"
  },
  "language_info": {
   "codemirror_mode": {
    "name": "ipython",
    "version": 3
   },
   "file_extension": ".py",
   "mimetype": "text/x-python",
   "name": "python",
   "nbconvert_exporter": "python",
   "pygments_lexer": "ipython3",
   "version": "3.12.4"
  }
 },
 "nbformat": 4,
 "nbformat_minor": 5
}
